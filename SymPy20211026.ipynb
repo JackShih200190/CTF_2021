{
  "nbformat": 4,
  "nbformat_minor": 0,
  "metadata": {
    "colab": {
      "name": "SymPy20211026.ipynb",
      "provenance": [],
      "authorship_tag": "ABX9TyPJz+QIpJSTXiOq5I1VIxBJ",
      "include_colab_link": true
    },
    "kernelspec": {
      "name": "python3",
      "display_name": "Python 3"
    },
    "language_info": {
      "name": "python"
    }
  },
  "cells": [
    {
      "cell_type": "markdown",
      "metadata": {
        "id": "view-in-github",
        "colab_type": "text"
      },
      "source": [
        "<a href=\"https://colab.research.google.com/github/JackShih200190/CTF_2021/blob/main/SymPy20211026.ipynb\" target=\"_parent\"><img src=\"https://colab.research.google.com/assets/colab-badge.svg\" alt=\"Open In Colab\"/></a>"
      ]
    },
    {
      "cell_type": "code",
      "metadata": {
        "colab": {
          "base_uri": "https://localhost:8080/"
        },
        "id": "8VEPRrKIhn_s",
        "outputId": "ae98af7f-0519-4b9f-9caa-39924306f9e0"
      },
      "source": [
        "!pip install sympy"
      ],
      "execution_count": null,
      "outputs": [
        {
          "output_type": "stream",
          "name": "stdout",
          "text": [
            "Requirement already satisfied: sympy in /usr/local/lib/python3.7/dist-packages (1.7.1)\n",
            "Requirement already satisfied: mpmath>=0.19 in /usr/local/lib/python3.7/dist-packages (from sympy) (1.2.1)\n"
          ]
        }
      ]
    },
    {
      "cell_type": "code",
      "metadata": {
        "colab": {
          "base_uri": "https://localhost:8080/",
          "height": 53
        },
        "id": "S46AT84Ji3oQ",
        "outputId": "bf653c92-e883-40ad-b12b-d7a14282c228"
      },
      "source": [
        "import math\n",
        "from sympy import *                                                                                              \n",
        "x = symbols('x')\n",
        "integrate(exp(2*x), (x, 0, 1))"
      ],
      "execution_count": null,
      "outputs": [
        {
          "output_type": "execute_result",
          "data": {
            "text/latex": "$\\displaystyle - \\frac{1}{2} + \\frac{e^{2}}{2}$",
            "text/plain": [
              "-1/2 + exp(2)/2"
            ]
          },
          "metadata": {},
          "execution_count": 3
        }
      ]
    },
    {
      "cell_type": "code",
      "metadata": {
        "colab": {
          "base_uri": "https://localhost:8080/"
        },
        "id": "jKLnOsr_iU9x",
        "outputId": "0b479bd4-5920-451d-a921-1695908837e0"
      },
      "source": [
        "from sympy import mod_inverse\n",
        "mod_inverse(11, 35) # returns 16\n",
        "# 11*x=1(mod35)  "
      ],
      "execution_count": null,
      "outputs": [
        {
          "output_type": "execute_result",
          "data": {
            "text/plain": [
              "16"
            ]
          },
          "metadata": {},
          "execution_count": 2
        }
      ]
    },
    {
      "cell_type": "code",
      "metadata": {
        "colab": {
          "base_uri": "https://localhost:8080/"
        },
        "id": "pDyz36hRRrf9",
        "outputId": "4e35c130-35a2-4da1-9c6d-ef905f3198b4"
      },
      "source": [
        "from sympy import mod_inverse\n",
        "mod_inverse(7,22)"
      ],
      "execution_count": null,
      "outputs": [
        {
          "output_type": "execute_result",
          "data": {
            "text/plain": [
              "19"
            ]
          },
          "metadata": {},
          "execution_count": 2
        }
      ]
    },
    {
      "cell_type": "code",
      "metadata": {
        "id": "r0v_Yb8Bj5vG",
        "colab": {
          "base_uri": "https://localhost:8080/",
          "height": 53
        },
        "outputId": "651196ec-b539-40fd-93ea-d2695f9a3759"
      },
      "source": [
        "# 不定積分\n",
        "import math\n",
        "from sympy import *                                                                                              \n",
        "x = symbols('x')\n",
        "integrate(exp(2*x), x)"
      ],
      "execution_count": null,
      "outputs": [
        {
          "output_type": "execute_result",
          "data": {
            "text/latex": "$\\displaystyle \\frac{e^{2 x}}{2}$",
            "text/plain": [
              "exp(2*x)/2"
            ]
          },
          "metadata": {},
          "execution_count": 3
        }
      ]
    },
    {
      "cell_type": "code",
      "metadata": {
        "colab": {
          "base_uri": "https://localhost:8080/",
          "height": 53
        },
        "id": "Rhr_kJeu9Brt",
        "outputId": "939da66d-7308-4178-9f7e-494e80a565e6"
      },
      "source": [
        "import math\n",
        "from sympy import *                                                                                              \n",
        "x = symbols('x')\n",
        "integrate(exp(2*x), (x, 0, 1))\n"
      ],
      "execution_count": 4,
      "outputs": [
        {
          "output_type": "execute_result",
          "data": {
            "text/latex": "$\\displaystyle - \\frac{1}{2} + \\frac{e^{2}}{2}$",
            "text/plain": [
              "-1/2 + exp(2)/2"
            ]
          },
          "metadata": {},
          "execution_count": 4
        }
      ]
    },
    {
      "cell_type": "code",
      "metadata": {
        "colab": {
          "base_uri": "https://localhost:8080/",
          "height": 51
        },
        "id": "_w960L0a0Sgz",
        "outputId": "32a29042-15cd-41b1-965f-ad25660f3b0b"
      },
      "source": [
        "# 定積分\n",
        "from sympy import *\n",
        "x = Symbol('x')\n",
        "f = x**2 + 1\n",
        "integrate(f, (x, -1, 1))"
      ],
      "execution_count": 2,
      "outputs": [
        {
          "output_type": "execute_result",
          "data": {
            "text/latex": "$\\displaystyle \\frac{8}{3}$",
            "text/plain": [
              "8/3"
            ]
          },
          "metadata": {},
          "execution_count": 2
        }
      ]
    },
    {
      "cell_type": "code",
      "metadata": {
        "colab": {
          "base_uri": "https://localhost:8080/",
          "height": 37
        },
        "id": "7Cq8Rjwq1Dbi",
        "outputId": "2bda4599-ccd2-489b-dac6-bffdccba7e8c"
      },
      "source": [
        "# 不定積分\n",
        "from sympy import *\n",
        "x = Symbol('x')\n",
        "f = 3*x**2 + 1\n",
        "integrate(f, x)\n",
        "x**3 + x"
      ],
      "execution_count": 3,
      "outputs": [
        {
          "output_type": "execute_result",
          "data": {
            "text/latex": "$\\displaystyle x^{3} + x$",
            "text/plain": [
              "x**3 + x"
            ]
          },
          "metadata": {},
          "execution_count": 3
        }
      ]
    },
    {
      "cell_type": "code",
      "metadata": {
        "colab": {
          "base_uri": "https://localhost:8080/",
          "height": 73
        },
        "id": "MutMPLia_cjt",
        "outputId": "210a2c1e-d61c-42f1-9120-c73fb6e84444"
      },
      "source": [
        "from sympy import init_printing, integrate, log, sqrt, symbols\n",
        "init_printing()\n",
        "x = symbols('x')\n",
        "g = sqrt(x + log(x))\n",
        "f = (x ** 2 + 2 * x + 1 + (3 * x + 1) * g) / (x * g * (x + g))\n",
        "f\n"
      ],
      "execution_count": null,
      "outputs": [
        {
          "output_type": "execute_result",
          "data": {
            "image/png": "[encoded data removed]",
            "text/latex": "$\\displaystyle \\frac{x^{2} + 2 x + \\sqrt{x + \\log{\\left(x \\right)}} \\left(3 x + 1\\right) + 1}{x \\left(x + \\sqrt{x + \\log{\\left(x \\right)}}\\right) \\sqrt{x + \\log{\\left(x \\right)}}}$",
            "text/plain": [
              " 2           ____________              \n",
              "x  + 2⋅x + ╲╱ x + log(x) ⋅(3⋅x + 1) + 1\n",
              "───────────────────────────────────────\n",
              "   ⎛      ____________⎞   ____________ \n",
              " x⋅⎝x + ╲╱ x + log(x) ⎠⋅╲╱ x + log(x)  "
            ]
          },
          "metadata": {},
          "execution_count": 1
        }
      ]
    },
    {
      "cell_type": "code",
      "metadata": {
        "colab": {
          "base_uri": "https://localhost:8080/"
        },
        "id": "rVZGmfZmGZnc",
        "outputId": "016976ec-a9f8-4953-9c49-efb2422a23ce"
      },
      "source": [
        "from sympy import *\n",
        "x = Symbol('x')\n",
        "y = Symbol('y')\n",
        "print(solve([2 * x - y - 3, 3 * x + y - 7],[x, y]))"
      ],
      "execution_count": null,
      "outputs": [
        {
          "output_type": "stream",
          "name": "stdout",
          "text": [
            "{x: 2, y: 1}\n"
          ]
        }
      ]
    },
    {
      "cell_type": "code",
      "metadata": {
        "colab": {
          "base_uri": "https://localhost:8080/"
        },
        "id": "F9m_gxKYHLWX",
        "outputId": "8a4eaa4c-fcce-4044-8a6c-57d1da3d0853"
      },
      "source": [
        "from sympy import *\n",
        "n = Symbol('n')\n",
        "s = ((n+3)/(n+2))**n#無窮為兩個小寫o\n",
        "print(limit(s,x,oo))\n"
      ],
      "execution_count": null,
      "outputs": [
        {
          "output_type": "stream",
          "name": "stdout",
          "text": [
            "((n + 3)/(n + 2))**n\n"
          ]
        }
      ]
    },
    {
      "cell_type": "code",
      "metadata": {
        "id": "RgfHrZ-GHLRN"
      },
      "source": [
        "import math\n",
        "from sympy import *                                                                                              \n",
        "x = symbols('x')\n",
        "integrate(exp(2*x), x)"
      ],
      "execution_count": null,
      "outputs": []
    },
    {
      "cell_type": "code",
      "metadata": {
        "id": "UGcJ-gBhhSw8"
      },
      "source": [
        ""
      ],
      "execution_count": null,
      "outputs": []
    }
  ]
}